{
 "cells": [
  {
   "cell_type": "code",
   "execution_count": 1,
   "metadata": {},
   "outputs": [
    {
     "name": "stderr",
     "output_type": "stream",
     "text": [
      "C:\\Users\\USER\\Anaconda2\\lib\\site-packages\\sklearn\\cross_validation.py:44: DeprecationWarning: This module was deprecated in version 0.18 in favor of the model_selection module into which all the refactored classes and functions are moved. Also note that the interface of the new CV iterators are different from that of this module. This module will be removed in 0.20.\n",
      "  \"This module will be removed in 0.20.\", DeprecationWarning)\n"
     ]
    }
   ],
   "source": [
    "import pandas as pd\n",
    "from sklearn import datasets\n",
    "from sklearn import linear_model\n",
    "from sklearn.cross_validation import train_test_split\n",
    "import matplotlib.pyplot as plt\n",
    "from sklearn.model_selection import KFold\n",
    "from sklearn.ensemble import RandomForestRegressor\n",
    "import sklearn.metrics\n",
    "import math"
   ]
  },
  {
   "cell_type": "code",
   "execution_count": 2,
   "metadata": {
    "collapsed": true
   },
   "outputs": [],
   "source": [
    "df=pd.read_csv(\"train_day.csv\", header=0)"
   ]
  },
  {
   "cell_type": "code",
   "execution_count": 3,
   "metadata": {
    "collapsed": true
   },
   "outputs": [],
   "source": [
    "data = pd.DataFrame(df, columns = ['date','store_nbr','item_nbr','onpromotion','family','class','perishable','transactions','city','state','type','cluster','transferred','dcoilwtico','yea','mon','day']).as_matrix()"
   ]
  },
  {
   "cell_type": "code",
   "execution_count": 4,
   "metadata": {
    "collapsed": true
   },
   "outputs": [],
   "source": [
    "target = pd.DataFrame(df,columns=['unit_sales']).as_matrix()"
   ]
  },
  {
   "cell_type": "code",
   "execution_count": 5,
   "metadata": {
    "collapsed": true
   },
   "outputs": [],
   "source": [
    "model =  RandomForestRegressor()"
   ]
  },
  {
   "cell_type": "code",
   "execution_count": 6,
   "metadata": {},
   "outputs": [
    {
     "name": "stderr",
     "output_type": "stream",
     "text": [
      "C:\\Users\\USER\\Anaconda2\\lib\\site-packages\\ipykernel\\__main__.py:14: DataConversionWarning: A column-vector y was passed when a 1d array was expected. Please change the shape of y to (n_samples,), for example using ravel().\n"
     ]
    },
    {
     "name": "stdout",
     "output_type": "stream",
     "text": [
      "0.5421643612\n"
     ]
    }
   ],
   "source": [
    "#X_train, X_test, y_train, y_test = train_test_split(data, target, test_size=0.2, random_state=42)\n",
    "kf = KFold(n_splits=5)\n",
    "X=data\n",
    "y=target\n",
    "\n",
    "def NWRMSLE(y, pred, w):\n",
    "    return sklearn.metrics.mean_squared_error(y_test, pred,sample_weight=w)**0.5\n",
    "\n",
    "error=0\n",
    "\n",
    "for train_index, test_index in kf.split(X):\n",
    "    X_train, X_test = X[train_index], X[test_index]\n",
    "    y_train, y_test = y[train_index], y[test_index]\n",
    "    mymodel = model.fit(X_train, y_train)\n",
    "    pred=mymodel.predict(X_test)\n",
    "    error+=NWRMSLE(y_test,pred,X_test[:,10])\n",
    "error/=5\n",
    "print error"
   ]
  },
  {
   "cell_type": "code",
   "execution_count": 7,
   "metadata": {},
   "outputs": [
    {
     "data": {
      "image/png": "[encoded data removed]",
      "text/plain": [
       "<matplotlib.figure.Figure at 0x2cd3dcc0>"
      ]
     },
     "metadata": {},
     "output_type": "display_data"
    }
   ],
   "source": [
    "fig, ax = plt.subplots()\n",
    "x_=y_test\n",
    "y_=pred\n",
    "ax.scatter(x_,y_,color='red')\n",
    "ax.plot([0,y_.max()], [0,y_.max()],linewidth=3,color='black')\n",
    "ax.set_xlabel('Data')\n",
    "ax.set_ylabel('Predicted')\n",
    "plt.title('Random Forest Regressor')\n",
    "plt.show()"
   ]
  },
  {
   "cell_type": "code",
   "execution_count": 8,
   "metadata": {},
   "outputs": [
    {
     "name": "stdout",
     "output_type": "stream",
     "text": [
      "Total units:  [ 1231947.57088851]\n",
      "Average units:  [ 1.6532969]\n",
      "[ 502021.06556258] [ 314444.64699695]\n"
     ]
    }
   ],
   "source": [
    "extra1=0\n",
    "extra2=0\n",
    "sum=0\n",
    "\n",
    "for i in range(len(x_)):\n",
    "    sum+=x_[i]\n",
    "avg=sum/len(x_)\n",
    "print \"Total units: \",sum\n",
    "print \"Average units: \",avg\n",
    "\n",
    "for i in range(len(x_)):\n",
    "    extra1+=abs(x_[i]-avg)\n",
    "    extra2+=abs(x_[i]-y_[i])\n",
    "print extra1,extra2"
   ]
  }
 ],
 "metadata": {
  "kernelspec": {
   "display_name": "Python 2",
   "language": "python",
   "name": "python2"
  },
  "language_info": {
   "codemirror_mode": {
    "name": "ipython",
    "version": 2
   },
   "file_extension": ".py",
   "mimetype": "text/x-python",
   "name": "python",
   "nbconvert_exporter": "python",
   "pygments_lexer": "ipython2",
   "version": "2.7.14"
  }
 },
 "nbformat": 4,
 "nbformat_minor": 1
}
